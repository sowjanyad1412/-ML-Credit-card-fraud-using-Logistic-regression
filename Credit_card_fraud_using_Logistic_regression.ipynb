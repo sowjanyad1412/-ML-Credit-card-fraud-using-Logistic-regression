{
  "nbformat": 4,
  "nbformat_minor": 0,
  "metadata": {
    "colab": {
      "name": "Credit card fraud using Logistic regression.ipynb",
      "provenance": [],
      "collapsed_sections": [],
      "authorship_tag": "ABX9TyMaEAfDw3GxlID3gIXdlPy7",
      "include_colab_link": true
    },
    "kernelspec": {
      "name": "python3",
      "display_name": "Python 3"
    },
    "language_info": {
      "name": "python"
    }
  },
  "cells": [
    {
      "cell_type": "markdown",
      "metadata": {
        "id": "view-in-github",
        "colab_type": "text"
      },
      "source": [
        "<a href=\"https://colab.research.google.com/github/sowjanyad1412/-ML-Credit-card-fraud-using-Logistic-regression/blob/main/Credit_card_fraud_using_Logistic_regression.ipynb\" target=\"_parent\"><img src=\"https://colab.research.google.com/assets/colab-badge.svg\" alt=\"Open In Colab\"/></a>"
      ]
    },
    {
      "cell_type": "markdown",
      "metadata": {
        "id": "IF_tnRypBOBT"
      },
      "source": [
        "Importhing the dependencies"
      ]
    },
    {
      "cell_type": "code",
      "metadata": {
        "id": "rwgpoHWB99Ud"
      },
      "source": [
        "import numpy as np\n",
        "import pandas as pd\n",
        "from sklearn.model_selection import train_test_split\n",
        "from sklearn.linear_model import LogisticRegression\n",
        "from sklearn.metrics import accuracy_score"
      ],
      "execution_count": null,
      "outputs": []
    },
    {
      "cell_type": "code",
      "metadata": {
        "id": "A8fS3kjSBthq"
      },
      "source": [
        "#loading data set to pandas data frame\n",
        "credit_card_data=pd.read_csv('/content/creditcard.csv')"
      ],
      "execution_count": null,
      "outputs": []
    },
    {
      "cell_type": "code",
      "metadata": {
        "colab": {
          "base_uri": "https://localhost:8080/",
          "height": 223
        },
        "id": "MaEVwkFrDNyt",
        "outputId": "627035fa-128a-445e-9704-18704f8d6eaf"
      },
      "source": [
        "# first 5 rows of the dataset\n",
        "credit_card_data.head()"
      ],
      "execution_count": null,
      "outputs": [
        {
          "output_type": "execute_result",
          "data": {
            "text/html": [
              "<div>\n",
              "<style scoped>\n",
              "    .dataframe tbody tr th:only-of-type {\n",
              "        vertical-align: middle;\n",
              "    }\n",
              "\n",
              "    .dataframe tbody tr th {\n",
              "        vertical-align: top;\n",
              "    }\n",
              "\n",
              "    .dataframe thead th {\n",
              "        text-align: right;\n",
              "    }\n",
              "</style>\n",
              "<table border=\"1\" class=\"dataframe\">\n",
              "  <thead>\n",
              "    <tr style=\"text-align: right;\">\n",
              "      <th></th>\n",
              "      <th>Time</th>\n",
              "      <th>V1</th>\n",
              "      <th>V2</th>\n",
              "      <th>V3</th>\n",
              "      <th>V4</th>\n",
              "      <th>V5</th>\n",
              "      <th>V6</th>\n",
              "      <th>V7</th>\n",
              "      <th>V8</th>\n",
              "      <th>V9</th>\n",
              "      <th>V10</th>\n",
              "      <th>V11</th>\n",
              "      <th>V12</th>\n",
              "      <th>V13</th>\n",
              "      <th>V14</th>\n",
              "      <th>V15</th>\n",
              "      <th>V16</th>\n",
              "      <th>V17</th>\n",
              "      <th>V18</th>\n",
              "      <th>V19</th>\n",
              "      <th>V20</th>\n",
              "      <th>V21</th>\n",
              "      <th>V22</th>\n",
              "      <th>V23</th>\n",
              "      <th>V24</th>\n",
              "      <th>V25</th>\n",
              "      <th>V26</th>\n",
              "      <th>V27</th>\n",
              "      <th>V28</th>\n",
              "      <th>Amount</th>\n",
              "      <th>Class</th>\n",
              "    </tr>\n",
              "  </thead>\n",
              "  <tbody>\n",
              "    <tr>\n",
              "      <th>0</th>\n",
              "      <td>0</td>\n",
              "      <td>-1.359807</td>\n",
              "      <td>-0.072781</td>\n",
              "      <td>2.536347</td>\n",
              "      <td>1.378155</td>\n",
              "      <td>-0.338321</td>\n",
              "      <td>0.462388</td>\n",
              "      <td>0.239599</td>\n",
              "      <td>0.098698</td>\n",
              "      <td>0.363787</td>\n",
              "      <td>0.090794</td>\n",
              "      <td>-0.551600</td>\n",
              "      <td>-0.617801</td>\n",
              "      <td>-0.991390</td>\n",
              "      <td>-0.311169</td>\n",
              "      <td>1.468177</td>\n",
              "      <td>-0.470401</td>\n",
              "      <td>0.207971</td>\n",
              "      <td>0.025791</td>\n",
              "      <td>0.403993</td>\n",
              "      <td>0.251412</td>\n",
              "      <td>-0.018307</td>\n",
              "      <td>0.277838</td>\n",
              "      <td>-0.110474</td>\n",
              "      <td>0.066928</td>\n",
              "      <td>0.128539</td>\n",
              "      <td>-0.189115</td>\n",
              "      <td>0.133558</td>\n",
              "      <td>-0.0210531</td>\n",
              "      <td>149.62</td>\n",
              "      <td>0.0</td>\n",
              "    </tr>\n",
              "    <tr>\n",
              "      <th>1</th>\n",
              "      <td>0</td>\n",
              "      <td>1.191857</td>\n",
              "      <td>0.266151</td>\n",
              "      <td>0.166480</td>\n",
              "      <td>0.448154</td>\n",
              "      <td>0.060018</td>\n",
              "      <td>-0.082361</td>\n",
              "      <td>-0.078803</td>\n",
              "      <td>0.085102</td>\n",
              "      <td>-0.255425</td>\n",
              "      <td>-0.166974</td>\n",
              "      <td>1.612727</td>\n",
              "      <td>1.065235</td>\n",
              "      <td>0.489095</td>\n",
              "      <td>-0.143772</td>\n",
              "      <td>0.635558</td>\n",
              "      <td>0.463917</td>\n",
              "      <td>-0.114805</td>\n",
              "      <td>-0.183361</td>\n",
              "      <td>-0.145783</td>\n",
              "      <td>-0.069083</td>\n",
              "      <td>-0.225775</td>\n",
              "      <td>-0.638672</td>\n",
              "      <td>0.101288</td>\n",
              "      <td>-0.339846</td>\n",
              "      <td>0.167170</td>\n",
              "      <td>0.125895</td>\n",
              "      <td>-0.008983</td>\n",
              "      <td>0.0147242</td>\n",
              "      <td>2.69</td>\n",
              "      <td>0.0</td>\n",
              "    </tr>\n",
              "    <tr>\n",
              "      <th>2</th>\n",
              "      <td>1</td>\n",
              "      <td>-1.358354</td>\n",
              "      <td>-1.340163</td>\n",
              "      <td>1.773209</td>\n",
              "      <td>0.379780</td>\n",
              "      <td>-0.503198</td>\n",
              "      <td>1.800499</td>\n",
              "      <td>0.791461</td>\n",
              "      <td>0.247676</td>\n",
              "      <td>-1.514654</td>\n",
              "      <td>0.207643</td>\n",
              "      <td>0.624501</td>\n",
              "      <td>0.066084</td>\n",
              "      <td>0.717293</td>\n",
              "      <td>-0.165946</td>\n",
              "      <td>2.345865</td>\n",
              "      <td>-2.890083</td>\n",
              "      <td>1.109969</td>\n",
              "      <td>-0.121359</td>\n",
              "      <td>-2.261857</td>\n",
              "      <td>0.524980</td>\n",
              "      <td>0.247998</td>\n",
              "      <td>0.771679</td>\n",
              "      <td>0.909412</td>\n",
              "      <td>-0.689281</td>\n",
              "      <td>-0.327642</td>\n",
              "      <td>-0.139097</td>\n",
              "      <td>-0.055353</td>\n",
              "      <td>-0.0597518</td>\n",
              "      <td>378.66</td>\n",
              "      <td>0.0</td>\n",
              "    </tr>\n",
              "    <tr>\n",
              "      <th>3</th>\n",
              "      <td>1</td>\n",
              "      <td>-0.966272</td>\n",
              "      <td>-0.185226</td>\n",
              "      <td>1.792993</td>\n",
              "      <td>-0.863291</td>\n",
              "      <td>-0.010309</td>\n",
              "      <td>1.247203</td>\n",
              "      <td>0.237609</td>\n",
              "      <td>0.377436</td>\n",
              "      <td>-1.387024</td>\n",
              "      <td>-0.054952</td>\n",
              "      <td>-0.226487</td>\n",
              "      <td>0.178228</td>\n",
              "      <td>0.507757</td>\n",
              "      <td>-0.287924</td>\n",
              "      <td>-0.631418</td>\n",
              "      <td>-1.059647</td>\n",
              "      <td>-0.684093</td>\n",
              "      <td>1.965775</td>\n",
              "      <td>-1.232622</td>\n",
              "      <td>-0.208038</td>\n",
              "      <td>-0.108300</td>\n",
              "      <td>0.005274</td>\n",
              "      <td>-0.190321</td>\n",
              "      <td>-1.175575</td>\n",
              "      <td>0.647376</td>\n",
              "      <td>-0.221929</td>\n",
              "      <td>0.062723</td>\n",
              "      <td>0.0614576</td>\n",
              "      <td>123.50</td>\n",
              "      <td>0.0</td>\n",
              "    </tr>\n",
              "    <tr>\n",
              "      <th>4</th>\n",
              "      <td>2</td>\n",
              "      <td>-1.158233</td>\n",
              "      <td>0.877737</td>\n",
              "      <td>1.548718</td>\n",
              "      <td>0.403034</td>\n",
              "      <td>-0.407193</td>\n",
              "      <td>0.095921</td>\n",
              "      <td>0.592941</td>\n",
              "      <td>-0.270533</td>\n",
              "      <td>0.817739</td>\n",
              "      <td>0.753074</td>\n",
              "      <td>-0.822843</td>\n",
              "      <td>0.538196</td>\n",
              "      <td>1.345852</td>\n",
              "      <td>-1.119670</td>\n",
              "      <td>0.175121</td>\n",
              "      <td>-0.451449</td>\n",
              "      <td>-0.237033</td>\n",
              "      <td>-0.038195</td>\n",
              "      <td>0.803487</td>\n",
              "      <td>0.408542</td>\n",
              "      <td>-0.009431</td>\n",
              "      <td>0.798278</td>\n",
              "      <td>-0.137458</td>\n",
              "      <td>0.141267</td>\n",
              "      <td>-0.206010</td>\n",
              "      <td>0.502292</td>\n",
              "      <td>0.219422</td>\n",
              "      <td>0.215153</td>\n",
              "      <td>69.99</td>\n",
              "      <td>0.0</td>\n",
              "    </tr>\n",
              "  </tbody>\n",
              "</table>\n",
              "</div>"
            ],
            "text/plain": [
              "   Time        V1        V2        V3  ...       V27        V28  Amount  Class\n",
              "0     0 -1.359807 -0.072781  2.536347  ...  0.133558 -0.0210531  149.62    0.0\n",
              "1     0  1.191857  0.266151  0.166480  ... -0.008983  0.0147242    2.69    0.0\n",
              "2     1 -1.358354 -1.340163  1.773209  ... -0.055353 -0.0597518  378.66    0.0\n",
              "3     1 -0.966272 -0.185226  1.792993  ...  0.062723  0.0614576  123.50    0.0\n",
              "4     2 -1.158233  0.877737  1.548718  ...  0.219422   0.215153   69.99    0.0\n",
              "\n",
              "[5 rows x 31 columns]"
            ]
          },
          "metadata": {},
          "execution_count": 6
        }
      ]
    },
    {
      "cell_type": "code",
      "metadata": {
        "colab": {
          "base_uri": "https://localhost:8080/",
          "height": 223
        },
        "id": "kCQyNEl3DcJC",
        "outputId": "a8182ede-a307-4ef8-9cb5-1ca1187130be"
      },
      "source": [
        "#bottom 5 rows of the data set\n",
        "credit_card_data.tail()"
      ],
      "execution_count": null,
      "outputs": [
        {
          "output_type": "execute_result",
          "data": {
            "text/html": [
              "<div>\n",
              "<style scoped>\n",
              "    .dataframe tbody tr th:only-of-type {\n",
              "        vertical-align: middle;\n",
              "    }\n",
              "\n",
              "    .dataframe tbody tr th {\n",
              "        vertical-align: top;\n",
              "    }\n",
              "\n",
              "    .dataframe thead th {\n",
              "        text-align: right;\n",
              "    }\n",
              "</style>\n",
              "<table border=\"1\" class=\"dataframe\">\n",
              "  <thead>\n",
              "    <tr style=\"text-align: right;\">\n",
              "      <th></th>\n",
              "      <th>Time</th>\n",
              "      <th>V1</th>\n",
              "      <th>V2</th>\n",
              "      <th>V3</th>\n",
              "      <th>V4</th>\n",
              "      <th>V5</th>\n",
              "      <th>V6</th>\n",
              "      <th>V7</th>\n",
              "      <th>V8</th>\n",
              "      <th>V9</th>\n",
              "      <th>V10</th>\n",
              "      <th>V11</th>\n",
              "      <th>V12</th>\n",
              "      <th>V13</th>\n",
              "      <th>V14</th>\n",
              "      <th>V15</th>\n",
              "      <th>V16</th>\n",
              "      <th>V17</th>\n",
              "      <th>V18</th>\n",
              "      <th>V19</th>\n",
              "      <th>V20</th>\n",
              "      <th>V21</th>\n",
              "      <th>V22</th>\n",
              "      <th>V23</th>\n",
              "      <th>V24</th>\n",
              "      <th>V25</th>\n",
              "      <th>V26</th>\n",
              "      <th>V27</th>\n",
              "      <th>V28</th>\n",
              "      <th>Amount</th>\n",
              "      <th>Class</th>\n",
              "    </tr>\n",
              "  </thead>\n",
              "  <tbody>\n",
              "    <tr>\n",
              "      <th>136737</th>\n",
              "      <td>81844</td>\n",
              "      <td>-10.972016</td>\n",
              "      <td>-10.165075</td>\n",
              "      <td>0.579235</td>\n",
              "      <td>1.914312</td>\n",
              "      <td>3.971221</td>\n",
              "      <td>-3.571746</td>\n",
              "      <td>-1.678594</td>\n",
              "      <td>-0.472964</td>\n",
              "      <td>1.746022</td>\n",
              "      <td>0.751735</td>\n",
              "      <td>-0.281258</td>\n",
              "      <td>0.499864</td>\n",
              "      <td>1.975114</td>\n",
              "      <td>-1.249787</td>\n",
              "      <td>2.168063</td>\n",
              "      <td>2.071752</td>\n",
              "      <td>-1.398952</td>\n",
              "      <td>0.068799</td>\n",
              "      <td>0.388452</td>\n",
              "      <td>-5.446783</td>\n",
              "      <td>-1.950947</td>\n",
              "      <td>1.310955</td>\n",
              "      <td>3.551754</td>\n",
              "      <td>0.384646</td>\n",
              "      <td>1.611309</td>\n",
              "      <td>1.441667</td>\n",
              "      <td>2.522778</td>\n",
              "      <td>-1.41864956210692</td>\n",
              "      <td>117.02</td>\n",
              "      <td>0.0</td>\n",
              "    </tr>\n",
              "    <tr>\n",
              "      <th>136738</th>\n",
              "      <td>81844</td>\n",
              "      <td>1.424511</td>\n",
              "      <td>-1.481277</td>\n",
              "      <td>0.827126</td>\n",
              "      <td>-1.263302</td>\n",
              "      <td>-1.806258</td>\n",
              "      <td>0.125942</td>\n",
              "      <td>-1.553317</td>\n",
              "      <td>0.090583</td>\n",
              "      <td>-0.915535</td>\n",
              "      <td>1.245161</td>\n",
              "      <td>-1.711262</td>\n",
              "      <td>-1.154682</td>\n",
              "      <td>0.166562</td>\n",
              "      <td>-0.917403</td>\n",
              "      <td>-0.119115</td>\n",
              "      <td>-0.212781</td>\n",
              "      <td>0.448956</td>\n",
              "      <td>0.385208</td>\n",
              "      <td>0.223620</td>\n",
              "      <td>-0.246353</td>\n",
              "      <td>-0.275377</td>\n",
              "      <td>-0.339339</td>\n",
              "      <td>-0.071301</td>\n",
              "      <td>-0.464163</td>\n",
              "      <td>0.329077</td>\n",
              "      <td>-0.146875</td>\n",
              "      <td>0.066696</td>\n",
              "      <td>0.0310399021239038</td>\n",
              "      <td>58.00</td>\n",
              "      <td>0.0</td>\n",
              "    </tr>\n",
              "    <tr>\n",
              "      <th>136739</th>\n",
              "      <td>81845</td>\n",
              "      <td>1.067404</td>\n",
              "      <td>0.087153</td>\n",
              "      <td>0.100938</td>\n",
              "      <td>0.986393</td>\n",
              "      <td>-0.082482</td>\n",
              "      <td>-0.412316</td>\n",
              "      <td>0.255298</td>\n",
              "      <td>-0.118738</td>\n",
              "      <td>-0.350417</td>\n",
              "      <td>0.129647</td>\n",
              "      <td>1.110498</td>\n",
              "      <td>1.075104</td>\n",
              "      <td>0.554209</td>\n",
              "      <td>0.471256</td>\n",
              "      <td>0.190876</td>\n",
              "      <td>0.324883</td>\n",
              "      <td>-0.826045</td>\n",
              "      <td>0.397315</td>\n",
              "      <td>0.012449</td>\n",
              "      <td>0.080264</td>\n",
              "      <td>0.113590</td>\n",
              "      <td>0.182403</td>\n",
              "      <td>-0.230636</td>\n",
              "      <td>0.035431</td>\n",
              "      <td>0.690598</td>\n",
              "      <td>-0.336135</td>\n",
              "      <td>-0.002191</td>\n",
              "      <td>0.0222817106909724</td>\n",
              "      <td>85.90</td>\n",
              "      <td>0.0</td>\n",
              "    </tr>\n",
              "    <tr>\n",
              "      <th>136740</th>\n",
              "      <td>81846</td>\n",
              "      <td>-0.833219</td>\n",
              "      <td>0.746826</td>\n",
              "      <td>1.747488</td>\n",
              "      <td>-0.016827</td>\n",
              "      <td>-0.406360</td>\n",
              "      <td>0.205399</td>\n",
              "      <td>-0.314283</td>\n",
              "      <td>0.605285</td>\n",
              "      <td>0.109673</td>\n",
              "      <td>-0.970542</td>\n",
              "      <td>-1.712226</td>\n",
              "      <td>0.266494</td>\n",
              "      <td>0.699974</td>\n",
              "      <td>-0.333322</td>\n",
              "      <td>-0.044681</td>\n",
              "      <td>0.379548</td>\n",
              "      <td>-0.298023</td>\n",
              "      <td>0.177236</td>\n",
              "      <td>0.502189</td>\n",
              "      <td>-0.048734</td>\n",
              "      <td>-0.001167</td>\n",
              "      <td>0.019274</td>\n",
              "      <td>-0.191846</td>\n",
              "      <td>-0.389853</td>\n",
              "      <td>-0.148594</td>\n",
              "      <td>0.426455</td>\n",
              "      <td>-0.013927</td>\n",
              "      <td>0.0384589819489235</td>\n",
              "      <td>6.80</td>\n",
              "      <td>0.0</td>\n",
              "    </tr>\n",
              "    <tr>\n",
              "      <th>136741</th>\n",
              "      <td>81847</td>\n",
              "      <td>-0.418805</td>\n",
              "      <td>0.740210</td>\n",
              "      <td>-0.340755</td>\n",
              "      <td>-0.849297</td>\n",
              "      <td>2.720622</td>\n",
              "      <td>3.617123</td>\n",
              "      <td>0.524513</td>\n",
              "      <td>0.658118</td>\n",
              "      <td>0.207301</td>\n",
              "      <td>0.036716</td>\n",
              "      <td>-0.678676</td>\n",
              "      <td>-0.104952</td>\n",
              "      <td>-0.404102</td>\n",
              "      <td>-0.280746</td>\n",
              "      <td>-0.798410</td>\n",
              "      <td>-0.001452</td>\n",
              "      <td>-0.928940</td>\n",
              "      <td>-0.051201</td>\n",
              "      <td>-0.314839</td>\n",
              "      <td>0.052106</td>\n",
              "      <td>-0.160854</td>\n",
              "      <td>-0.264370</td>\n",
              "      <td>-0.207264</td>\n",
              "      <td>0.987706</td>\n",
              "      <td>0.237498</td>\n",
              "      <td>-0.580972</td>\n",
              "      <td>-0.119332</td>\n",
              "      <td>-</td>\n",
              "      <td>NaN</td>\n",
              "      <td>NaN</td>\n",
              "    </tr>\n",
              "  </tbody>\n",
              "</table>\n",
              "</div>"
            ],
            "text/plain": [
              "         Time         V1         V2  ...                 V28  Amount  Class\n",
              "136737  81844 -10.972016 -10.165075  ...   -1.41864956210692  117.02    0.0\n",
              "136738  81844   1.424511  -1.481277  ...  0.0310399021239038   58.00    0.0\n",
              "136739  81845   1.067404   0.087153  ...  0.0222817106909724   85.90    0.0\n",
              "136740  81846  -0.833219   0.746826  ...  0.0384589819489235    6.80    0.0\n",
              "136741  81847  -0.418805   0.740210  ...                   -     NaN    NaN\n",
              "\n",
              "[5 rows x 31 columns]"
            ]
          },
          "metadata": {},
          "execution_count": 5
        }
      ]
    },
    {
      "cell_type": "code",
      "metadata": {
        "colab": {
          "base_uri": "https://localhost:8080/"
        },
        "id": "X55ZjpTEEbo2",
        "outputId": "e3a0d515-3cb7-4490-9e51-7b55d0eb7932"
      },
      "source": [
        "#information about the dataset\n",
        "credit_card_data.info()"
      ],
      "execution_count": null,
      "outputs": [
        {
          "output_type": "stream",
          "name": "stdout",
          "text": [
            "<class 'pandas.core.frame.DataFrame'>\n",
            "RangeIndex: 136742 entries, 0 to 136741\n",
            "Data columns (total 31 columns):\n",
            " #   Column  Non-Null Count   Dtype  \n",
            "---  ------  --------------   -----  \n",
            " 0   Time    136742 non-null  int64  \n",
            " 1   V1      136742 non-null  float64\n",
            " 2   V2      136742 non-null  float64\n",
            " 3   V3      136742 non-null  float64\n",
            " 4   V4      136742 non-null  float64\n",
            " 5   V5      136742 non-null  float64\n",
            " 6   V6      136742 non-null  float64\n",
            " 7   V7      136742 non-null  float64\n",
            " 8   V8      136742 non-null  float64\n",
            " 9   V9      136742 non-null  float64\n",
            " 10  V10     136742 non-null  float64\n",
            " 11  V11     136742 non-null  float64\n",
            " 12  V12     136742 non-null  float64\n",
            " 13  V13     136742 non-null  float64\n",
            " 14  V14     136742 non-null  float64\n",
            " 15  V15     136742 non-null  float64\n",
            " 16  V16     136742 non-null  float64\n",
            " 17  V17     136742 non-null  float64\n",
            " 18  V18     136742 non-null  float64\n",
            " 19  V19     136742 non-null  float64\n",
            " 20  V20     136742 non-null  float64\n",
            " 21  V21     136742 non-null  float64\n",
            " 22  V22     136742 non-null  float64\n",
            " 23  V23     136742 non-null  float64\n",
            " 24  V24     136742 non-null  float64\n",
            " 25  V25     136742 non-null  float64\n",
            " 26  V26     136742 non-null  float64\n",
            " 27  V27     136742 non-null  float64\n",
            " 28  V28     136742 non-null  object \n",
            " 29  Amount  136741 non-null  float64\n",
            " 30  Class   136741 non-null  float64\n",
            "dtypes: float64(29), int64(1), object(1)\n",
            "memory usage: 32.3+ MB\n"
          ]
        }
      ]
    },
    {
      "cell_type": "code",
      "metadata": {
        "colab": {
          "base_uri": "https://localhost:8080/"
        },
        "id": "va10IVquGOlj",
        "outputId": "511884fa-f846-462a-faf8-4843e29b9d1d"
      },
      "source": [
        "credit_card_data.isnull().sum()"
      ],
      "execution_count": null,
      "outputs": [
        {
          "output_type": "execute_result",
          "data": {
            "text/plain": [
              "Time      0\n",
              "V1        0\n",
              "V2        0\n",
              "V3        0\n",
              "V4        0\n",
              "V5        0\n",
              "V6        0\n",
              "V7        0\n",
              "V8        0\n",
              "V9        0\n",
              "V10       0\n",
              "V11       0\n",
              "V12       0\n",
              "V13       0\n",
              "V14       0\n",
              "V15       0\n",
              "V16       0\n",
              "V17       0\n",
              "V18       0\n",
              "V19       0\n",
              "V20       0\n",
              "V21       0\n",
              "V22       0\n",
              "V23       0\n",
              "V24       0\n",
              "V25       0\n",
              "V26       0\n",
              "V27       0\n",
              "V28       0\n",
              "Amount    1\n",
              "Class     1\n",
              "dtype: int64"
            ]
          },
          "metadata": {},
          "execution_count": 9
        }
      ]
    },
    {
      "cell_type": "code",
      "metadata": {
        "colab": {
          "base_uri": "https://localhost:8080/"
        },
        "id": "_noskwgIGQGo",
        "outputId": "ed0ee627-d5b5-4901-adcf-5d6b22c4ccd8"
      },
      "source": [
        "# distribution of legit transactions & fraudulent transactions\n",
        "credit_card_data['Class'].value_counts()"
      ],
      "execution_count": null,
      "outputs": [
        {
          "output_type": "execute_result",
          "data": {
            "text/plain": [
              "0.0    136478\n",
              "1.0       263\n",
              "Name: Class, dtype: int64"
            ]
          },
          "metadata": {},
          "execution_count": 10
        }
      ]
    },
    {
      "cell_type": "markdown",
      "metadata": {
        "id": "QdMtN_OxITKV"
      },
      "source": [
        "THISS DATA SET IS HIGHLY UNBALANCED"
      ]
    },
    {
      "cell_type": "code",
      "metadata": {
        "id": "g1NGsYbzIutR"
      },
      "source": [
        ""
      ],
      "execution_count": null,
      "outputs": []
    },
    {
      "cell_type": "markdown",
      "metadata": {
        "id": "Gvo8UM6EIgnl"
      },
      "source": [
        "THE LABEL 0 REPRESEENTS NORMAL TRANSACTION\n",
        "\n",
        "THE LABEL 1 REPRESENTS FRADULENT TRANSACTION"
      ]
    },
    {
      "cell_type": "code",
      "metadata": {
        "id": "oSUeeGO5GxLR"
      },
      "source": [
        "# separating the data for analysis\n",
        "legit = credit_card_data[credit_card_data.Class == 0]\n",
        "fraud = credit_card_data[credit_card_data.Class == 1]"
      ],
      "execution_count": null,
      "outputs": []
    },
    {
      "cell_type": "code",
      "metadata": {
        "colab": {
          "base_uri": "https://localhost:8080/"
        },
        "id": "uyaF1__iJ-H0",
        "outputId": "f126efde-c812-4e00-c344-796df893f57d"
      },
      "source": [
        "print(legit.shape)\n",
        "print(fraud.shape)"
      ],
      "execution_count": null,
      "outputs": [
        {
          "output_type": "stream",
          "name": "stdout",
          "text": [
            "(136478, 31)\n",
            "(263, 31)\n"
          ]
        }
      ]
    },
    {
      "cell_type": "code",
      "metadata": {
        "colab": {
          "base_uri": "https://localhost:8080/"
        },
        "id": "78V4JGvtJ_yQ",
        "outputId": "a983b53c-980d-41f7-e766-1c9c83ae1008"
      },
      "source": [
        "# statistical measures of the data\n",
        "legit.Amount.describe()"
      ],
      "execution_count": null,
      "outputs": [
        {
          "output_type": "execute_result",
          "data": {
            "text/plain": [
              "count    136478.000000\n",
              "mean         91.548835\n",
              "std         248.415077\n",
              "min           0.000000\n",
              "25%           6.052500\n",
              "50%          24.000000\n",
              "75%          81.460000\n",
              "max       19656.530000\n",
              "Name: Amount, dtype: float64"
            ]
          },
          "metadata": {},
          "execution_count": 13
        }
      ]
    },
    {
      "cell_type": "code",
      "metadata": {
        "colab": {
          "base_uri": "https://localhost:8080/"
        },
        "id": "7wVDLujBNksz",
        "outputId": "2c1889d7-2077-470e-8f00-94816dd994a5"
      },
      "source": [
        "fraud.Amount.describe()"
      ],
      "execution_count": null,
      "outputs": [
        {
          "output_type": "execute_result",
          "data": {
            "text/plain": [
              "count     263.000000\n",
              "mean      115.821939\n",
              "std       245.555287\n",
              "min         0.000000\n",
              "25%         1.000000\n",
              "50%         9.990000\n",
              "75%        99.990000\n",
              "max      1809.680000\n",
              "Name: Amount, dtype: float64"
            ]
          },
          "metadata": {},
          "execution_count": 14
        }
      ]
    },
    {
      "cell_type": "code",
      "metadata": {
        "colab": {
          "base_uri": "https://localhost:8080/",
          "height": 162
        },
        "id": "g3aMKtR-PB50",
        "outputId": "fc855433-e41e-47b5-e832-c350077d6907"
      },
      "source": [
        "# compare the values for both transactions\n",
        "credit_card_data.groupby('Class').mean()"
      ],
      "execution_count": null,
      "outputs": [
        {
          "output_type": "execute_result",
          "data": {
            "text/html": [
              "<div>\n",
              "<style scoped>\n",
              "    .dataframe tbody tr th:only-of-type {\n",
              "        vertical-align: middle;\n",
              "    }\n",
              "\n",
              "    .dataframe tbody tr th {\n",
              "        vertical-align: top;\n",
              "    }\n",
              "\n",
              "    .dataframe thead th {\n",
              "        text-align: right;\n",
              "    }\n",
              "</style>\n",
              "<table border=\"1\" class=\"dataframe\">\n",
              "  <thead>\n",
              "    <tr style=\"text-align: right;\">\n",
              "      <th></th>\n",
              "      <th>Time</th>\n",
              "      <th>V1</th>\n",
              "      <th>V2</th>\n",
              "      <th>V3</th>\n",
              "      <th>V4</th>\n",
              "      <th>V5</th>\n",
              "      <th>V6</th>\n",
              "      <th>V7</th>\n",
              "      <th>V8</th>\n",
              "      <th>V9</th>\n",
              "      <th>V10</th>\n",
              "      <th>V11</th>\n",
              "      <th>V12</th>\n",
              "      <th>V13</th>\n",
              "      <th>V14</th>\n",
              "      <th>V15</th>\n",
              "      <th>V16</th>\n",
              "      <th>V17</th>\n",
              "      <th>V18</th>\n",
              "      <th>V19</th>\n",
              "      <th>V20</th>\n",
              "      <th>V21</th>\n",
              "      <th>V22</th>\n",
              "      <th>V23</th>\n",
              "      <th>V24</th>\n",
              "      <th>V25</th>\n",
              "      <th>V26</th>\n",
              "      <th>V27</th>\n",
              "      <th>Amount</th>\n",
              "    </tr>\n",
              "    <tr>\n",
              "      <th>Class</th>\n",
              "      <th></th>\n",
              "      <th></th>\n",
              "      <th></th>\n",
              "      <th></th>\n",
              "      <th></th>\n",
              "      <th></th>\n",
              "      <th></th>\n",
              "      <th></th>\n",
              "      <th></th>\n",
              "      <th></th>\n",
              "      <th></th>\n",
              "      <th></th>\n",
              "      <th></th>\n",
              "      <th></th>\n",
              "      <th></th>\n",
              "      <th></th>\n",
              "      <th></th>\n",
              "      <th></th>\n",
              "      <th></th>\n",
              "      <th></th>\n",
              "      <th></th>\n",
              "      <th></th>\n",
              "      <th></th>\n",
              "      <th></th>\n",
              "      <th></th>\n",
              "      <th></th>\n",
              "      <th></th>\n",
              "      <th></th>\n",
              "      <th></th>\n",
              "    </tr>\n",
              "  </thead>\n",
              "  <tbody>\n",
              "    <tr>\n",
              "      <th>0.0</th>\n",
              "      <td>51141.665880</td>\n",
              "      <td>-0.235795</td>\n",
              "      <td>0.003103</td>\n",
              "      <td>0.689845</td>\n",
              "      <td>0.132260</td>\n",
              "      <td>-0.277157</td>\n",
              "      <td>0.079918</td>\n",
              "      <td>-0.105512</td>\n",
              "      <td>0.061608</td>\n",
              "      <td>-0.084750</td>\n",
              "      <td>-0.008995</td>\n",
              "      <td>0.207271</td>\n",
              "      <td>0.030699</td>\n",
              "      <td>-0.017546</td>\n",
              "      <td>0.044669</td>\n",
              "      <td>0.223872</td>\n",
              "      <td>0.000926</td>\n",
              "      <td>0.060357</td>\n",
              "      <td>-0.081046</td>\n",
              "      <td>-0.020466</td>\n",
              "      <td>0.041525</td>\n",
              "      <td>-0.041068</td>\n",
              "      <td>-0.117106</td>\n",
              "      <td>-0.033825</td>\n",
              "      <td>0.012193</td>\n",
              "      <td>0.130395</td>\n",
              "      <td>0.023141</td>\n",
              "      <td>-0.000198</td>\n",
              "      <td>91.548835</td>\n",
              "    </tr>\n",
              "    <tr>\n",
              "      <th>1.0</th>\n",
              "      <td>42268.619772</td>\n",
              "      <td>-5.626583</td>\n",
              "      <td>3.954001</td>\n",
              "      <td>-7.166881</td>\n",
              "      <td>4.518643</td>\n",
              "      <td>-3.992721</td>\n",
              "      <td>-1.483299</td>\n",
              "      <td>-5.954429</td>\n",
              "      <td>1.511967</td>\n",
              "      <td>-2.609642</td>\n",
              "      <td>-5.719594</td>\n",
              "      <td>4.108170</td>\n",
              "      <td>-6.423659</td>\n",
              "      <td>-0.115479</td>\n",
              "      <td>-7.176473</td>\n",
              "      <td>0.238632</td>\n",
              "      <td>-4.494959</td>\n",
              "      <td>-7.444087</td>\n",
              "      <td>-2.678231</td>\n",
              "      <td>0.744724</td>\n",
              "      <td>0.240625</td>\n",
              "      <td>1.261098</td>\n",
              "      <td>-0.311839</td>\n",
              "      <td>-0.116866</td>\n",
              "      <td>-0.106327</td>\n",
              "      <td>0.198141</td>\n",
              "      <td>0.057140</td>\n",
              "      <td>0.491224</td>\n",
              "      <td>115.821939</td>\n",
              "    </tr>\n",
              "  </tbody>\n",
              "</table>\n",
              "</div>"
            ],
            "text/plain": [
              "               Time        V1        V2  ...       V26       V27      Amount\n",
              "Class                                    ...                                \n",
              "0.0    51141.665880 -0.235795  0.003103  ...  0.023141 -0.000198   91.548835\n",
              "1.0    42268.619772 -5.626583  3.954001  ...  0.057140  0.491224  115.821939\n",
              "\n",
              "[2 rows x 29 columns]"
            ]
          },
          "metadata": {},
          "execution_count": 16
        }
      ]
    },
    {
      "cell_type": "markdown",
      "metadata": {
        "id": "imXILdeJQB_J"
      },
      "source": [
        "Under-Sampling\n",
        "\n",
        "Build a sample dataset containing similar distribution of normal transactions and Fraudulent Transactions"
      ]
    },
    {
      "cell_type": "markdown",
      "metadata": {
        "id": "U8yegIR-Qlrs"
      },
      "source": [
        "Number of Fraudulent Transactions --> 263"
      ]
    },
    {
      "cell_type": "code",
      "metadata": {
        "id": "Ciek5hxaQiA_"
      },
      "source": [
        "legit_sample = legit.sample(n=263)"
      ],
      "execution_count": null,
      "outputs": []
    },
    {
      "cell_type": "markdown",
      "metadata": {
        "id": "N7vehKEeRLKA"
      },
      "source": [
        "Concatinating two data frames\n"
      ]
    },
    {
      "cell_type": "code",
      "metadata": {
        "id": "th71tr1mR1ct"
      },
      "source": [
        "new_dataset = pd.concat([legit_sample, fraud], axis=0)"
      ],
      "execution_count": null,
      "outputs": []
    },
    {
      "cell_type": "code",
      "metadata": {
        "colab": {
          "base_uri": "https://localhost:8080/",
          "height": 223
        },
        "id": "gyfEzY2lR92D",
        "outputId": "3c7d505d-b341-48c5-eb1c-9fd4643dc529"
      },
      "source": [
        "new_dataset.head()"
      ],
      "execution_count": null,
      "outputs": [
        {
          "output_type": "execute_result",
          "data": {
            "text/html": [
              "<div>\n",
              "<style scoped>\n",
              "    .dataframe tbody tr th:only-of-type {\n",
              "        vertical-align: middle;\n",
              "    }\n",
              "\n",
              "    .dataframe tbody tr th {\n",
              "        vertical-align: top;\n",
              "    }\n",
              "\n",
              "    .dataframe thead th {\n",
              "        text-align: right;\n",
              "    }\n",
              "</style>\n",
              "<table border=\"1\" class=\"dataframe\">\n",
              "  <thead>\n",
              "    <tr style=\"text-align: right;\">\n",
              "      <th></th>\n",
              "      <th>Time</th>\n",
              "      <th>V1</th>\n",
              "      <th>V2</th>\n",
              "      <th>V3</th>\n",
              "      <th>V4</th>\n",
              "      <th>V5</th>\n",
              "      <th>V6</th>\n",
              "      <th>V7</th>\n",
              "      <th>V8</th>\n",
              "      <th>V9</th>\n",
              "      <th>V10</th>\n",
              "      <th>V11</th>\n",
              "      <th>V12</th>\n",
              "      <th>V13</th>\n",
              "      <th>V14</th>\n",
              "      <th>V15</th>\n",
              "      <th>V16</th>\n",
              "      <th>V17</th>\n",
              "      <th>V18</th>\n",
              "      <th>V19</th>\n",
              "      <th>V20</th>\n",
              "      <th>V21</th>\n",
              "      <th>V22</th>\n",
              "      <th>V23</th>\n",
              "      <th>V24</th>\n",
              "      <th>V25</th>\n",
              "      <th>V26</th>\n",
              "      <th>V27</th>\n",
              "      <th>V28</th>\n",
              "      <th>Amount</th>\n",
              "      <th>Class</th>\n",
              "    </tr>\n",
              "  </thead>\n",
              "  <tbody>\n",
              "    <tr>\n",
              "      <th>26033</th>\n",
              "      <td>33879</td>\n",
              "      <td>-0.688170</td>\n",
              "      <td>1.384550</td>\n",
              "      <td>0.926865</td>\n",
              "      <td>0.103028</td>\n",
              "      <td>-0.277586</td>\n",
              "      <td>-1.023268</td>\n",
              "      <td>0.383836</td>\n",
              "      <td>0.341214</td>\n",
              "      <td>-0.596208</td>\n",
              "      <td>-0.745192</td>\n",
              "      <td>-0.327876</td>\n",
              "      <td>0.189899</td>\n",
              "      <td>0.390550</td>\n",
              "      <td>-0.154825</td>\n",
              "      <td>0.832432</td>\n",
              "      <td>0.497014</td>\n",
              "      <td>0.162830</td>\n",
              "      <td>-0.122636</td>\n",
              "      <td>-0.096631</td>\n",
              "      <td>0.029382</td>\n",
              "      <td>-0.216263</td>\n",
              "      <td>-0.684409</td>\n",
              "      <td>0.049557</td>\n",
              "      <td>0.332912</td>\n",
              "      <td>-0.126519</td>\n",
              "      <td>0.073781</td>\n",
              "      <td>0.119912</td>\n",
              "      <td>0.0361164</td>\n",
              "      <td>8.96</td>\n",
              "      <td>0.0</td>\n",
              "    </tr>\n",
              "    <tr>\n",
              "      <th>124268</th>\n",
              "      <td>77236</td>\n",
              "      <td>0.407185</td>\n",
              "      <td>-1.973379</td>\n",
              "      <td>-0.062298</td>\n",
              "      <td>-1.185788</td>\n",
              "      <td>-1.031648</td>\n",
              "      <td>0.301201</td>\n",
              "      <td>-0.065883</td>\n",
              "      <td>-0.029628</td>\n",
              "      <td>1.777152</td>\n",
              "      <td>-1.457858</td>\n",
              "      <td>-0.860621</td>\n",
              "      <td>1.085444</td>\n",
              "      <td>1.321423</td>\n",
              "      <td>-0.350976</td>\n",
              "      <td>1.603936</td>\n",
              "      <td>-0.379481</td>\n",
              "      <td>-0.208969</td>\n",
              "      <td>-0.095555</td>\n",
              "      <td>0.609662</td>\n",
              "      <td>0.922793</td>\n",
              "      <td>0.233887</td>\n",
              "      <td>-0.039102</td>\n",
              "      <td>-0.529924</td>\n",
              "      <td>-0.830761</td>\n",
              "      <td>0.291224</td>\n",
              "      <td>0.012468</td>\n",
              "      <td>-0.019189</td>\n",
              "      <td>0.0948949</td>\n",
              "      <td>464.46</td>\n",
              "      <td>0.0</td>\n",
              "    </tr>\n",
              "    <tr>\n",
              "      <th>42851</th>\n",
              "      <td>41273</td>\n",
              "      <td>0.839785</td>\n",
              "      <td>-1.537929</td>\n",
              "      <td>0.914883</td>\n",
              "      <td>-0.211508</td>\n",
              "      <td>-1.565191</td>\n",
              "      <td>0.246792</td>\n",
              "      <td>-0.809551</td>\n",
              "      <td>0.069857</td>\n",
              "      <td>-0.053690</td>\n",
              "      <td>0.196434</td>\n",
              "      <td>-0.406576</td>\n",
              "      <td>0.406361</td>\n",
              "      <td>1.104344</td>\n",
              "      <td>-1.038872</td>\n",
              "      <td>-0.511131</td>\n",
              "      <td>0.429272</td>\n",
              "      <td>0.917973</td>\n",
              "      <td>-2.069852</td>\n",
              "      <td>0.473128</td>\n",
              "      <td>0.566735</td>\n",
              "      <td>0.185612</td>\n",
              "      <td>0.256869</td>\n",
              "      <td>-0.185223</td>\n",
              "      <td>0.156723</td>\n",
              "      <td>0.258324</td>\n",
              "      <td>-0.243743</td>\n",
              "      <td>0.032323</td>\n",
              "      <td>0.0655263</td>\n",
              "      <td>247.46</td>\n",
              "      <td>0.0</td>\n",
              "    </tr>\n",
              "    <tr>\n",
              "      <th>6674</th>\n",
              "      <td>8258</td>\n",
              "      <td>1.050585</td>\n",
              "      <td>0.425033</td>\n",
              "      <td>1.165439</td>\n",
              "      <td>2.785741</td>\n",
              "      <td>-0.187348</td>\n",
              "      <td>0.516842</td>\n",
              "      <td>-0.335070</td>\n",
              "      <td>0.211598</td>\n",
              "      <td>0.792040</td>\n",
              "      <td>0.288604</td>\n",
              "      <td>2.094410</td>\n",
              "      <td>-1.709586</td>\n",
              "      <td>0.975062</td>\n",
              "      <td>1.648561</td>\n",
              "      <td>-1.787775</td>\n",
              "      <td>0.111128</td>\n",
              "      <td>0.619771</td>\n",
              "      <td>-0.374510</td>\n",
              "      <td>-0.929693</td>\n",
              "      <td>-0.264049</td>\n",
              "      <td>-0.350942</td>\n",
              "      <td>-0.683244</td>\n",
              "      <td>0.142430</td>\n",
              "      <td>0.119687</td>\n",
              "      <td>0.206601</td>\n",
              "      <td>-0.217447</td>\n",
              "      <td>-0.008053</td>\n",
              "      <td>0.0081798</td>\n",
              "      <td>7.55</td>\n",
              "      <td>0.0</td>\n",
              "    </tr>\n",
              "    <tr>\n",
              "      <th>107298</th>\n",
              "      <td>70375</td>\n",
              "      <td>1.424164</td>\n",
              "      <td>-0.926345</td>\n",
              "      <td>-0.602052</td>\n",
              "      <td>-1.805860</td>\n",
              "      <td>1.019840</td>\n",
              "      <td>3.532239</td>\n",
              "      <td>-1.595809</td>\n",
              "      <td>0.929227</td>\n",
              "      <td>-0.543670</td>\n",
              "      <td>0.664642</td>\n",
              "      <td>-0.076865</td>\n",
              "      <td>-0.760895</td>\n",
              "      <td>0.356243</td>\n",
              "      <td>-0.324639</td>\n",
              "      <td>1.292647</td>\n",
              "      <td>1.801423</td>\n",
              "      <td>-0.448672</td>\n",
              "      <td>-0.419200</td>\n",
              "      <td>0.593746</td>\n",
              "      <td>0.226496</td>\n",
              "      <td>0.331056</td>\n",
              "      <td>0.757992</td>\n",
              "      <td>-0.141683</td>\n",
              "      <td>1.049382</td>\n",
              "      <td>0.588515</td>\n",
              "      <td>-0.034675</td>\n",
              "      <td>0.039894</td>\n",
              "      <td>0.0198125</td>\n",
              "      <td>14.99</td>\n",
              "      <td>0.0</td>\n",
              "    </tr>\n",
              "  </tbody>\n",
              "</table>\n",
              "</div>"
            ],
            "text/plain": [
              "         Time        V1        V2        V3  ...       V27        V28  Amount  Class\n",
              "26033   33879 -0.688170  1.384550  0.926865  ...  0.119912  0.0361164    8.96    0.0\n",
              "124268  77236  0.407185 -1.973379 -0.062298  ... -0.019189  0.0948949  464.46    0.0\n",
              "42851   41273  0.839785 -1.537929  0.914883  ...  0.032323  0.0655263  247.46    0.0\n",
              "6674     8258  1.050585  0.425033  1.165439  ... -0.008053  0.0081798    7.55    0.0\n",
              "107298  70375  1.424164 -0.926345 -0.602052  ...  0.039894  0.0198125   14.99    0.0\n",
              "\n",
              "[5 rows x 31 columns]"
            ]
          },
          "metadata": {},
          "execution_count": 23
        }
      ]
    },
    {
      "cell_type": "code",
      "metadata": {
        "colab": {
          "base_uri": "https://localhost:8080/",
          "height": 223
        },
        "id": "Cu5LDpB4SAau",
        "outputId": "bc9d880d-570b-4e00-efaf-dd4b8530ef65"
      },
      "source": [
        "new_dataset.tail()"
      ],
      "execution_count": null,
      "outputs": [
        {
          "output_type": "execute_result",
          "data": {
            "text/html": [
              "<div>\n",
              "<style scoped>\n",
              "    .dataframe tbody tr th:only-of-type {\n",
              "        vertical-align: middle;\n",
              "    }\n",
              "\n",
              "    .dataframe tbody tr th {\n",
              "        vertical-align: top;\n",
              "    }\n",
              "\n",
              "    .dataframe thead th {\n",
              "        text-align: right;\n",
              "    }\n",
              "</style>\n",
              "<table border=\"1\" class=\"dataframe\">\n",
              "  <thead>\n",
              "    <tr style=\"text-align: right;\">\n",
              "      <th></th>\n",
              "      <th>Time</th>\n",
              "      <th>V1</th>\n",
              "      <th>V2</th>\n",
              "      <th>V3</th>\n",
              "      <th>V4</th>\n",
              "      <th>V5</th>\n",
              "      <th>V6</th>\n",
              "      <th>V7</th>\n",
              "      <th>V8</th>\n",
              "      <th>V9</th>\n",
              "      <th>V10</th>\n",
              "      <th>V11</th>\n",
              "      <th>V12</th>\n",
              "      <th>V13</th>\n",
              "      <th>V14</th>\n",
              "      <th>V15</th>\n",
              "      <th>V16</th>\n",
              "      <th>V17</th>\n",
              "      <th>V18</th>\n",
              "      <th>V19</th>\n",
              "      <th>V20</th>\n",
              "      <th>V21</th>\n",
              "      <th>V22</th>\n",
              "      <th>V23</th>\n",
              "      <th>V24</th>\n",
              "      <th>V25</th>\n",
              "      <th>V26</th>\n",
              "      <th>V27</th>\n",
              "      <th>V28</th>\n",
              "      <th>Amount</th>\n",
              "      <th>Class</th>\n",
              "    </tr>\n",
              "  </thead>\n",
              "  <tbody>\n",
              "    <tr>\n",
              "      <th>124176</th>\n",
              "      <td>77202</td>\n",
              "      <td>-0.356326</td>\n",
              "      <td>1.435305</td>\n",
              "      <td>-0.813564</td>\n",
              "      <td>1.993117</td>\n",
              "      <td>2.055878</td>\n",
              "      <td>-0.543579</td>\n",
              "      <td>0.487691</td>\n",
              "      <td>0.085449</td>\n",
              "      <td>-0.536352</td>\n",
              "      <td>-2.231209</td>\n",
              "      <td>0.273984</td>\n",
              "      <td>-0.535839</td>\n",
              "      <td>0.595677</td>\n",
              "      <td>-5.141823</td>\n",
              "      <td>0.732367</td>\n",
              "      <td>0.623913</td>\n",
              "      <td>4.090983</td>\n",
              "      <td>1.634084</td>\n",
              "      <td>0.260847</td>\n",
              "      <td>0.303262</td>\n",
              "      <td>-0.312863</td>\n",
              "      <td>-0.687874</td>\n",
              "      <td>-0.267003</td>\n",
              "      <td>-1.158480</td>\n",
              "      <td>0.271460</td>\n",
              "      <td>-0.155397</td>\n",
              "      <td>0.114328</td>\n",
              "      <td>0.101526</td>\n",
              "      <td>1.00</td>\n",
              "      <td>1.0</td>\n",
              "    </tr>\n",
              "    <tr>\n",
              "      <th>125342</th>\n",
              "      <td>77627</td>\n",
              "      <td>-7.139060</td>\n",
              "      <td>2.773082</td>\n",
              "      <td>-6.757845</td>\n",
              "      <td>4.446456</td>\n",
              "      <td>-5.464428</td>\n",
              "      <td>-1.713401</td>\n",
              "      <td>-6.485365</td>\n",
              "      <td>3.409395</td>\n",
              "      <td>-3.053493</td>\n",
              "      <td>-6.260706</td>\n",
              "      <td>2.394168</td>\n",
              "      <td>-6.163537</td>\n",
              "      <td>0.602851</td>\n",
              "      <td>-5.606346</td>\n",
              "      <td>0.206622</td>\n",
              "      <td>-6.525081</td>\n",
              "      <td>-11.408368</td>\n",
              "      <td>-4.693978</td>\n",
              "      <td>2.431274</td>\n",
              "      <td>-0.616949</td>\n",
              "      <td>1.303250</td>\n",
              "      <td>-0.016118</td>\n",
              "      <td>-0.876670</td>\n",
              "      <td>0.382230</td>\n",
              "      <td>-1.054624</td>\n",
              "      <td>-0.614606</td>\n",
              "      <td>-0.766848</td>\n",
              "      <td>0.409424</td>\n",
              "      <td>106.90</td>\n",
              "      <td>1.0</td>\n",
              "    </tr>\n",
              "    <tr>\n",
              "      <th>128479</th>\n",
              "      <td>78725</td>\n",
              "      <td>-4.312479</td>\n",
              "      <td>1.886476</td>\n",
              "      <td>-2.338634</td>\n",
              "      <td>-0.475243</td>\n",
              "      <td>-1.185444</td>\n",
              "      <td>-2.112079</td>\n",
              "      <td>-2.122793</td>\n",
              "      <td>0.272565</td>\n",
              "      <td>0.290273</td>\n",
              "      <td>-3.833741</td>\n",
              "      <td>2.509781</td>\n",
              "      <td>-3.611231</td>\n",
              "      <td>-1.024300</td>\n",
              "      <td>-5.291925</td>\n",
              "      <td>1.649807</td>\n",
              "      <td>-3.262658</td>\n",
              "      <td>-4.333118</td>\n",
              "      <td>-1.863049</td>\n",
              "      <td>-0.009534</td>\n",
              "      <td>-0.718706</td>\n",
              "      <td>0.550541</td>\n",
              "      <td>-0.067870</td>\n",
              "      <td>-1.114692</td>\n",
              "      <td>0.269069</td>\n",
              "      <td>-0.020572</td>\n",
              "      <td>-0.963489</td>\n",
              "      <td>-0.918888</td>\n",
              "      <td>0.00145356</td>\n",
              "      <td>60.00</td>\n",
              "      <td>1.0</td>\n",
              "    </tr>\n",
              "    <tr>\n",
              "      <th>131272</th>\n",
              "      <td>79540</td>\n",
              "      <td>-0.114361</td>\n",
              "      <td>1.036129</td>\n",
              "      <td>1.984405</td>\n",
              "      <td>3.128243</td>\n",
              "      <td>-0.740344</td>\n",
              "      <td>1.548619</td>\n",
              "      <td>-1.701284</td>\n",
              "      <td>-2.203842</td>\n",
              "      <td>-1.242265</td>\n",
              "      <td>0.269562</td>\n",
              "      <td>1.293418</td>\n",
              "      <td>0.933216</td>\n",
              "      <td>-0.135326</td>\n",
              "      <td>0.521484</td>\n",
              "      <td>0.386884</td>\n",
              "      <td>0.059869</td>\n",
              "      <td>0.306339</td>\n",
              "      <td>0.265052</td>\n",
              "      <td>0.223718</td>\n",
              "      <td>0.732852</td>\n",
              "      <td>-1.032935</td>\n",
              "      <td>1.196428</td>\n",
              "      <td>-0.112857</td>\n",
              "      <td>0.254719</td>\n",
              "      <td>0.696668</td>\n",
              "      <td>0.482370</td>\n",
              "      <td>0.129969</td>\n",
              "      <td>0.223924333790406</td>\n",
              "      <td>0.20</td>\n",
              "      <td>1.0</td>\n",
              "    </tr>\n",
              "    <tr>\n",
              "      <th>135718</th>\n",
              "      <td>81372</td>\n",
              "      <td>-0.885254</td>\n",
              "      <td>1.790649</td>\n",
              "      <td>-0.945149</td>\n",
              "      <td>3.853433</td>\n",
              "      <td>-1.543510</td>\n",
              "      <td>0.188582</td>\n",
              "      <td>-2.988383</td>\n",
              "      <td>1.344059</td>\n",
              "      <td>-2.294535</td>\n",
              "      <td>-1.886176</td>\n",
              "      <td>1.904284</td>\n",
              "      <td>-4.002414</td>\n",
              "      <td>-0.936956</td>\n",
              "      <td>-2.801915</td>\n",
              "      <td>0.798328</td>\n",
              "      <td>-2.348740</td>\n",
              "      <td>-6.426734</td>\n",
              "      <td>-0.827308</td>\n",
              "      <td>1.732382</td>\n",
              "      <td>0.370041</td>\n",
              "      <td>0.746160</td>\n",
              "      <td>0.550802</td>\n",
              "      <td>-0.034882</td>\n",
              "      <td>-0.567608</td>\n",
              "      <td>-0.528318</td>\n",
              "      <td>0.258782</td>\n",
              "      <td>0.506893</td>\n",
              "      <td>0.176735548819463</td>\n",
              "      <td>7.57</td>\n",
              "      <td>1.0</td>\n",
              "    </tr>\n",
              "  </tbody>\n",
              "</table>\n",
              "</div>"
            ],
            "text/plain": [
              "         Time        V1        V2  ...                V28  Amount  Class\n",
              "124176  77202 -0.356326  1.435305  ...           0.101526    1.00    1.0\n",
              "125342  77627 -7.139060  2.773082  ...           0.409424  106.90    1.0\n",
              "128479  78725 -4.312479  1.886476  ...         0.00145356   60.00    1.0\n",
              "131272  79540 -0.114361  1.036129  ...  0.223924333790406    0.20    1.0\n",
              "135718  81372 -0.885254  1.790649  ...  0.176735548819463    7.57    1.0\n",
              "\n",
              "[5 rows x 31 columns]"
            ]
          },
          "metadata": {},
          "execution_count": 25
        }
      ]
    },
    {
      "cell_type": "code",
      "metadata": {
        "colab": {
          "base_uri": "https://localhost:8080/"
        },
        "id": "yqum4b1sSVZc",
        "outputId": "03de53ae-0f79-4880-feb4-3097c947a8d1"
      },
      "source": [
        "new_dataset['Class'].value_counts()"
      ],
      "execution_count": null,
      "outputs": [
        {
          "output_type": "execute_result",
          "data": {
            "text/plain": [
              "1.0    263\n",
              "0.0    263\n",
              "Name: Class, dtype: int64"
            ]
          },
          "metadata": {},
          "execution_count": 26
        }
      ]
    },
    {
      "cell_type": "code",
      "metadata": {
        "colab": {
          "base_uri": "https://localhost:8080/",
          "height": 162
        },
        "id": "RfNz8kUgSWzv",
        "outputId": "69ac4fa7-0b5a-4eb3-d5c1-04286d51e50b"
      },
      "source": [
        "new_dataset.groupby('Class').mean()"
      ],
      "execution_count": null,
      "outputs": [
        {
          "output_type": "execute_result",
          "data": {
            "text/html": [
              "<div>\n",
              "<style scoped>\n",
              "    .dataframe tbody tr th:only-of-type {\n",
              "        vertical-align: middle;\n",
              "    }\n",
              "\n",
              "    .dataframe tbody tr th {\n",
              "        vertical-align: top;\n",
              "    }\n",
              "\n",
              "    .dataframe thead th {\n",
              "        text-align: right;\n",
              "    }\n",
              "</style>\n",
              "<table border=\"1\" class=\"dataframe\">\n",
              "  <thead>\n",
              "    <tr style=\"text-align: right;\">\n",
              "      <th></th>\n",
              "      <th>Time</th>\n",
              "      <th>V1</th>\n",
              "      <th>V2</th>\n",
              "      <th>V3</th>\n",
              "      <th>V4</th>\n",
              "      <th>V5</th>\n",
              "      <th>V6</th>\n",
              "      <th>V7</th>\n",
              "      <th>V8</th>\n",
              "      <th>V9</th>\n",
              "      <th>V10</th>\n",
              "      <th>V11</th>\n",
              "      <th>V12</th>\n",
              "      <th>V13</th>\n",
              "      <th>V14</th>\n",
              "      <th>V15</th>\n",
              "      <th>V16</th>\n",
              "      <th>V17</th>\n",
              "      <th>V18</th>\n",
              "      <th>V19</th>\n",
              "      <th>V20</th>\n",
              "      <th>V21</th>\n",
              "      <th>V22</th>\n",
              "      <th>V23</th>\n",
              "      <th>V24</th>\n",
              "      <th>V25</th>\n",
              "      <th>V26</th>\n",
              "      <th>V27</th>\n",
              "      <th>Amount</th>\n",
              "    </tr>\n",
              "    <tr>\n",
              "      <th>Class</th>\n",
              "      <th></th>\n",
              "      <th></th>\n",
              "      <th></th>\n",
              "      <th></th>\n",
              "      <th></th>\n",
              "      <th></th>\n",
              "      <th></th>\n",
              "      <th></th>\n",
              "      <th></th>\n",
              "      <th></th>\n",
              "      <th></th>\n",
              "      <th></th>\n",
              "      <th></th>\n",
              "      <th></th>\n",
              "      <th></th>\n",
              "      <th></th>\n",
              "      <th></th>\n",
              "      <th></th>\n",
              "      <th></th>\n",
              "      <th></th>\n",
              "      <th></th>\n",
              "      <th></th>\n",
              "      <th></th>\n",
              "      <th></th>\n",
              "      <th></th>\n",
              "      <th></th>\n",
              "      <th></th>\n",
              "      <th></th>\n",
              "      <th></th>\n",
              "    </tr>\n",
              "  </thead>\n",
              "  <tbody>\n",
              "    <tr>\n",
              "      <th>0.0</th>\n",
              "      <td>49779.908745</td>\n",
              "      <td>-0.275076</td>\n",
              "      <td>0.144661</td>\n",
              "      <td>0.741686</td>\n",
              "      <td>0.213890</td>\n",
              "      <td>-0.217904</td>\n",
              "      <td>0.323911</td>\n",
              "      <td>-0.126810</td>\n",
              "      <td>0.082934</td>\n",
              "      <td>-0.045262</td>\n",
              "      <td>0.041320</td>\n",
              "      <td>0.135094</td>\n",
              "      <td>0.053380</td>\n",
              "      <td>-0.008578</td>\n",
              "      <td>-0.012353</td>\n",
              "      <td>0.281378</td>\n",
              "      <td>-0.027031</td>\n",
              "      <td>0.070545</td>\n",
              "      <td>-0.110815</td>\n",
              "      <td>-0.069812</td>\n",
              "      <td>0.065896</td>\n",
              "      <td>0.015428</td>\n",
              "      <td>-0.115312</td>\n",
              "      <td>-0.043878</td>\n",
              "      <td>0.037198</td>\n",
              "      <td>0.145695</td>\n",
              "      <td>0.003323</td>\n",
              "      <td>-0.041494</td>\n",
              "      <td>87.421065</td>\n",
              "    </tr>\n",
              "    <tr>\n",
              "      <th>1.0</th>\n",
              "      <td>42268.619772</td>\n",
              "      <td>-5.626583</td>\n",
              "      <td>3.954001</td>\n",
              "      <td>-7.166881</td>\n",
              "      <td>4.518643</td>\n",
              "      <td>-3.992721</td>\n",
              "      <td>-1.483299</td>\n",
              "      <td>-5.954429</td>\n",
              "      <td>1.511967</td>\n",
              "      <td>-2.609642</td>\n",
              "      <td>-5.719594</td>\n",
              "      <td>4.108170</td>\n",
              "      <td>-6.423659</td>\n",
              "      <td>-0.115479</td>\n",
              "      <td>-7.176473</td>\n",
              "      <td>0.238632</td>\n",
              "      <td>-4.494959</td>\n",
              "      <td>-7.444087</td>\n",
              "      <td>-2.678231</td>\n",
              "      <td>0.744724</td>\n",
              "      <td>0.240625</td>\n",
              "      <td>1.261098</td>\n",
              "      <td>-0.311839</td>\n",
              "      <td>-0.116866</td>\n",
              "      <td>-0.106327</td>\n",
              "      <td>0.198141</td>\n",
              "      <td>0.057140</td>\n",
              "      <td>0.491224</td>\n",
              "      <td>115.821939</td>\n",
              "    </tr>\n",
              "  </tbody>\n",
              "</table>\n",
              "</div>"
            ],
            "text/plain": [
              "               Time        V1        V2  ...       V26       V27      Amount\n",
              "Class                                    ...                                \n",
              "0.0    49779.908745 -0.275076  0.144661  ...  0.003323 -0.041494   87.421065\n",
              "1.0    42268.619772 -5.626583  3.954001  ...  0.057140  0.491224  115.821939\n",
              "\n",
              "[2 rows x 29 columns]"
            ]
          },
          "metadata": {},
          "execution_count": 27
        }
      ]
    },
    {
      "cell_type": "markdown",
      "metadata": {
        "id": "P3gGHJ6-S8y1"
      },
      "source": [
        "Splitting the data into Features & Targets"
      ]
    },
    {
      "cell_type": "code",
      "metadata": {
        "id": "deZ7i-IqStVz"
      },
      "source": [
        "X = new_dataset.drop(columns='Class', axis=1)\n",
        "Y = new_dataset['Class']"
      ],
      "execution_count": null,
      "outputs": []
    },
    {
      "cell_type": "code",
      "metadata": {
        "colab": {
          "base_uri": "https://localhost:8080/"
        },
        "id": "VQjdkvMiTVcQ",
        "outputId": "36686cac-b7fb-424b-ef1e-4287be663ee6"
      },
      "source": [
        "print(X)"
      ],
      "execution_count": null,
      "outputs": [
        {
          "output_type": "stream",
          "name": "stdout",
          "text": [
            "         Time        V1        V2  ...       V27                V28  Amount\n",
            "26033   33879 -0.688170  1.384550  ...  0.119912          0.0361164    8.96\n",
            "124268  77236  0.407185 -1.973379  ... -0.019189          0.0948949  464.46\n",
            "42851   41273  0.839785 -1.537929  ...  0.032323          0.0655263  247.46\n",
            "6674     8258  1.050585  0.425033  ... -0.008053          0.0081798    7.55\n",
            "107298  70375  1.424164 -0.926345  ...  0.039894          0.0198125   14.99\n",
            "...       ...       ...       ...  ...       ...                ...     ...\n",
            "124176  77202 -0.356326  1.435305  ...  0.114328           0.101526    1.00\n",
            "125342  77627 -7.139060  2.773082  ... -0.766848           0.409424  106.90\n",
            "128479  78725 -4.312479  1.886476  ... -0.918888         0.00145356   60.00\n",
            "131272  79540 -0.114361  1.036129  ...  0.129969  0.223924333790406    0.20\n",
            "135718  81372 -0.885254  1.790649  ...  0.506893  0.176735548819463    7.57\n",
            "\n",
            "[526 rows x 30 columns]\n"
          ]
        }
      ]
    },
    {
      "cell_type": "code",
      "metadata": {
        "colab": {
          "base_uri": "https://localhost:8080/"
        },
        "id": "WyN8XIq8T8CJ",
        "outputId": "2ed1b8f1-f4ef-4330-f3b8-c19522c93a13"
      },
      "source": [
        "print(Y)"
      ],
      "execution_count": null,
      "outputs": [
        {
          "output_type": "stream",
          "name": "stdout",
          "text": [
            "26033     0.0\n",
            "124268    0.0\n",
            "42851     0.0\n",
            "6674      0.0\n",
            "107298    0.0\n",
            "         ... \n",
            "124176    1.0\n",
            "125342    1.0\n",
            "128479    1.0\n",
            "131272    1.0\n",
            "135718    1.0\n",
            "Name: Class, Length: 526, dtype: float64\n"
          ]
        }
      ]
    },
    {
      "cell_type": "markdown",
      "metadata": {
        "id": "elKFdy6-UFiw"
      },
      "source": [
        "\n",
        "Split the data into Training data & Testing Data"
      ]
    },
    {
      "cell_type": "code",
      "metadata": {
        "id": "3lTJXjzOT8y2"
      },
      "source": [
        "X_train, X_test, Y_train, Y_test = train_test_split(X, Y, test_size=0.2, stratify=Y, random_state=2)"
      ],
      "execution_count": null,
      "outputs": []
    },
    {
      "cell_type": "code",
      "metadata": {
        "colab": {
          "base_uri": "https://localhost:8080/"
        },
        "id": "tm0URXa2UNxD",
        "outputId": "5756e797-ebd9-4437-caed-64cf51c5a975"
      },
      "source": [
        "print(X.shape, X_train.shape, X_test.shape)"
      ],
      "execution_count": null,
      "outputs": [
        {
          "output_type": "stream",
          "name": "stdout",
          "text": [
            "(526, 30) (420, 30) (106, 30)\n"
          ]
        }
      ]
    },
    {
      "cell_type": "markdown",
      "metadata": {
        "id": "Djmb7kmTVj5D"
      },
      "source": [
        "Model training"
      ]
    },
    {
      "cell_type": "markdown",
      "metadata": {
        "id": "AIvdOz9yVm_B"
      },
      "source": [
        "Logistic Regression"
      ]
    },
    {
      "cell_type": "code",
      "metadata": {
        "id": "j3q4nDHNUOob"
      },
      "source": [
        "model = LogisticRegression()"
      ],
      "execution_count": null,
      "outputs": []
    },
    {
      "cell_type": "code",
      "metadata": {
        "colab": {
          "base_uri": "https://localhost:8080/"
        },
        "id": "qHXTJQ23V9U-",
        "outputId": "83d5f9eb-92e2-4875-eb84-a6bfbabe8b51"
      },
      "source": [
        "# training the Logistic Regression Model with Training Data\n",
        "model.fit(X_train, Y_train)"
      ],
      "execution_count": null,
      "outputs": [
        {
          "output_type": "stream",
          "name": "stderr",
          "text": [
            "/usr/local/lib/python3.7/dist-packages/sklearn/linear_model/_logistic.py:940: ConvergenceWarning: lbfgs failed to converge (status=1):\n",
            "STOP: TOTAL NO. of ITERATIONS REACHED LIMIT.\n",
            "\n",
            "Increase the number of iterations (max_iter) or scale the data as shown in:\n",
            "    https://scikit-learn.org/stable/modules/preprocessing.html\n",
            "Please also refer to the documentation for alternative solver options:\n",
            "    https://scikit-learn.org/stable/modules/linear_model.html#logistic-regression\n",
            "  extra_warning_msg=_LOGISTIC_SOLVER_CONVERGENCE_MSG)\n"
          ]
        },
        {
          "output_type": "execute_result",
          "data": {
            "text/plain": [
              "LogisticRegression(C=1.0, class_weight=None, dual=False, fit_intercept=True,\n",
              "                   intercept_scaling=1, l1_ratio=None, max_iter=100,\n",
              "                   multi_class='auto', n_jobs=None, penalty='l2',\n",
              "                   random_state=None, solver='lbfgs', tol=0.0001, verbose=0,\n",
              "                   warm_start=False)"
            ]
          },
          "metadata": {},
          "execution_count": 38
        }
      ]
    },
    {
      "cell_type": "markdown",
      "metadata": {
        "id": "hkhiASgyWaQ4"
      },
      "source": [
        "Model Evaluation"
      ]
    },
    {
      "cell_type": "markdown",
      "metadata": {
        "id": "4CEJ6YqgWcb2"
      },
      "source": [
        "Accuracy Score"
      ]
    },
    {
      "cell_type": "code",
      "metadata": {
        "id": "W-usRkI5V_-d"
      },
      "source": [
        "# accuracy on training data\n",
        "X_train_prediction = model.predict(X_train)\n",
        "training_data_accuracy = accuracy_score(X_train_prediction, Y_train)"
      ],
      "execution_count": null,
      "outputs": []
    },
    {
      "cell_type": "code",
      "metadata": {
        "colab": {
          "base_uri": "https://localhost:8080/"
        },
        "id": "tRiZw_FDWlNl",
        "outputId": "23f6062f-82d4-4e22-ee78-90b880aeecd8"
      },
      "source": [
        "print('Accuracy on Training data : ', training_data_accuracy)"
      ],
      "execution_count": null,
      "outputs": [
        {
          "output_type": "stream",
          "name": "stdout",
          "text": [
            "Accuracy on Training data :  0.9476190476190476\n"
          ]
        }
      ]
    },
    {
      "cell_type": "code",
      "metadata": {
        "id": "MlumoTKnWmUt"
      },
      "source": [
        "# accuracy on test data\n",
        "X_test_prediction = model.predict(X_test)\n",
        "test_data_accuracy = accuracy_score(X_test_prediction, Y_test)"
      ],
      "execution_count": null,
      "outputs": []
    },
    {
      "cell_type": "code",
      "metadata": {
        "colab": {
          "base_uri": "https://localhost:8080/"
        },
        "id": "RjQzTRsWWqvq",
        "outputId": "9a82e853-7c0a-40ca-c036-bd9fa413f1bb"
      },
      "source": [
        "print('Accuracy score on Test Data : ', test_data_accuracy)"
      ],
      "execution_count": null,
      "outputs": [
        {
          "output_type": "stream",
          "name": "stdout",
          "text": [
            "Accuracy score on Test Data :  0.9622641509433962\n"
          ]
        }
      ]
    },
    {
      "cell_type": "code",
      "metadata": {
        "id": "pUHeaus4WtSB"
      },
      "source": [
        ""
      ],
      "execution_count": null,
      "outputs": []
    }
  ]
}